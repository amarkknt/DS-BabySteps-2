{
 "cells": [
  {
   "cell_type": "code",
   "execution_count": 15,
   "id": "fd057125",
   "metadata": {},
   "outputs": [],
   "source": [
    "import numpy as np\n",
    "import pandas as pd\n",
    "import matplotlib.pyplot as plt\n",
    "import seaborn as sns\n",
    "%matplotlib inline"
   ]
  },
  {
   "cell_type": "code",
   "execution_count": 16,
   "id": "60cc8317",
   "metadata": {},
   "outputs": [],
   "source": [
    "df = pd.read_csv('C:/Users/amarn/Desktop/Data Science/Python/Asian Paints 5-Year Dataset.csv')"
   ]
  },
  {
   "cell_type": "code",
   "execution_count": 17,
   "id": "23d7a05c",
   "metadata": {},
   "outputs": [
    {
     "data": {
      "text/html": [
       "<div>\n",
       "<style scoped>\n",
       "    .dataframe tbody tr th:only-of-type {\n",
       "        vertical-align: middle;\n",
       "    }\n",
       "\n",
       "    .dataframe tbody tr th {\n",
       "        vertical-align: top;\n",
       "    }\n",
       "\n",
       "    .dataframe thead th {\n",
       "        text-align: right;\n",
       "    }\n",
       "</style>\n",
       "<table border=\"1\" class=\"dataframe\">\n",
       "  <thead>\n",
       "    <tr style=\"text-align: right;\">\n",
       "      <th></th>\n",
       "      <th>Date</th>\n",
       "      <th>Open</th>\n",
       "      <th>High</th>\n",
       "      <th>Low</th>\n",
       "      <th>Close</th>\n",
       "      <th>Adj Close</th>\n",
       "      <th>Volume</th>\n",
       "    </tr>\n",
       "  </thead>\n",
       "  <tbody>\n",
       "    <tr>\n",
       "      <th>0</th>\n",
       "      <td>2017-05-29</td>\n",
       "      <td>1125.000000</td>\n",
       "      <td>1150.000000</td>\n",
       "      <td>1125.000000</td>\n",
       "      <td>1146.550049</td>\n",
       "      <td>1111.703491</td>\n",
       "      <td>460152</td>\n",
       "    </tr>\n",
       "    <tr>\n",
       "      <th>1</th>\n",
       "      <td>2017-05-30</td>\n",
       "      <td>1150.000000</td>\n",
       "      <td>1166.099976</td>\n",
       "      <td>1147.000000</td>\n",
       "      <td>1159.449951</td>\n",
       "      <td>1124.211670</td>\n",
       "      <td>460978</td>\n",
       "    </tr>\n",
       "    <tr>\n",
       "      <th>2</th>\n",
       "      <td>2017-05-31</td>\n",
       "      <td>1159.000000</td>\n",
       "      <td>1165.000000</td>\n",
       "      <td>1144.550049</td>\n",
       "      <td>1151.199951</td>\n",
       "      <td>1116.212280</td>\n",
       "      <td>1488564</td>\n",
       "    </tr>\n",
       "    <tr>\n",
       "      <th>3</th>\n",
       "      <td>2017-06-01</td>\n",
       "      <td>1150.000000</td>\n",
       "      <td>1162.000000</td>\n",
       "      <td>1133.099976</td>\n",
       "      <td>1160.449951</td>\n",
       "      <td>1125.181152</td>\n",
       "      <td>578030</td>\n",
       "    </tr>\n",
       "    <tr>\n",
       "      <th>4</th>\n",
       "      <td>2017-06-02</td>\n",
       "      <td>1161.199951</td>\n",
       "      <td>1174.900024</td>\n",
       "      <td>1160.199951</td>\n",
       "      <td>1164.300049</td>\n",
       "      <td>1128.914063</td>\n",
       "      <td>437401</td>\n",
       "    </tr>\n",
       "  </tbody>\n",
       "</table>\n",
       "</div>"
      ],
      "text/plain": [
       "         Date         Open         High          Low        Close  \\\n",
       "0  2017-05-29  1125.000000  1150.000000  1125.000000  1146.550049   \n",
       "1  2017-05-30  1150.000000  1166.099976  1147.000000  1159.449951   \n",
       "2  2017-05-31  1159.000000  1165.000000  1144.550049  1151.199951   \n",
       "3  2017-06-01  1150.000000  1162.000000  1133.099976  1160.449951   \n",
       "4  2017-06-02  1161.199951  1174.900024  1160.199951  1164.300049   \n",
       "\n",
       "     Adj Close   Volume  \n",
       "0  1111.703491   460152  \n",
       "1  1124.211670   460978  \n",
       "2  1116.212280  1488564  \n",
       "3  1125.181152   578030  \n",
       "4  1128.914063   437401  "
      ]
     },
     "execution_count": 17,
     "metadata": {},
     "output_type": "execute_result"
    }
   ],
   "source": [
    "df.head()"
   ]
  },
  {
   "cell_type": "code",
   "execution_count": 18,
   "id": "4ccb2e2f",
   "metadata": {},
   "outputs": [
    {
     "name": "stdout",
     "output_type": "stream",
     "text": [
      "<class 'pandas.core.frame.DataFrame'>\n",
      "RangeIndex: 1235 entries, 0 to 1234\n",
      "Data columns (total 7 columns):\n",
      " #   Column     Non-Null Count  Dtype  \n",
      "---  ------     --------------  -----  \n",
      " 0   Date       1235 non-null   object \n",
      " 1   Open       1235 non-null   float64\n",
      " 2   High       1235 non-null   float64\n",
      " 3   Low        1235 non-null   float64\n",
      " 4   Close      1235 non-null   float64\n",
      " 5   Adj Close  1235 non-null   float64\n",
      " 6   Volume     1235 non-null   int64  \n",
      "dtypes: float64(5), int64(1), object(1)\n",
      "memory usage: 67.7+ KB\n"
     ]
    }
   ],
   "source": [
    "df.info()"
   ]
  },
  {
   "cell_type": "code",
   "execution_count": 19,
   "id": "eb8fab6d",
   "metadata": {},
   "outputs": [
    {
     "data": {
      "text/plain": [
       "<AxesSubplot:>"
      ]
     },
     "execution_count": 19,
     "metadata": {},
     "output_type": "execute_result"
    },
    {
     "data": {
      "image/png": "[encoded data removed]",
      "text/plain": [
       "<Figure size 864x576 with 2 Axes>"
      ]
     },
     "metadata": {
      "needs_background": "light"
     },
     "output_type": "display_data"
    }
   ],
   "source": [
    "plt.figure(figsize=(12,8))\n",
    "sns.heatmap(df.corr(),annot=True,cmap='magma')"
   ]
  },
  {
   "cell_type": "code",
   "execution_count": 22,
   "id": "2c89eceb",
   "metadata": {},
   "outputs": [],
   "source": [
    "import datetime as dt\n",
    "df['Date'] = pd.to_datetime(df['Date']).dt.date\n",
    "df['Month'] = pd.to_datetime(df['Date']).dt.month\n",
    "df['Year'] = pd.to_datetime(df['Date']).dt.year"
   ]
  },
  {
   "cell_type": "code",
   "execution_count": 23,
   "id": "9283a3d7",
   "metadata": {},
   "outputs": [
    {
     "data": {
      "text/html": [
       "<div>\n",
       "<style scoped>\n",
       "    .dataframe tbody tr th:only-of-type {\n",
       "        vertical-align: middle;\n",
       "    }\n",
       "\n",
       "    .dataframe tbody tr th {\n",
       "        vertical-align: top;\n",
       "    }\n",
       "\n",
       "    .dataframe thead th {\n",
       "        text-align: right;\n",
       "    }\n",
       "</style>\n",
       "<table border=\"1\" class=\"dataframe\">\n",
       "  <thead>\n",
       "    <tr style=\"text-align: right;\">\n",
       "      <th></th>\n",
       "      <th>Date</th>\n",
       "      <th>Open</th>\n",
       "      <th>High</th>\n",
       "      <th>Low</th>\n",
       "      <th>Close</th>\n",
       "      <th>Adj Close</th>\n",
       "      <th>Volume</th>\n",
       "      <th>Month</th>\n",
       "      <th>Year</th>\n",
       "    </tr>\n",
       "  </thead>\n",
       "  <tbody>\n",
       "    <tr>\n",
       "      <th>0</th>\n",
       "      <td>2017-05-29</td>\n",
       "      <td>1125.000000</td>\n",
       "      <td>1150.000000</td>\n",
       "      <td>1125.000000</td>\n",
       "      <td>1146.550049</td>\n",
       "      <td>1111.703491</td>\n",
       "      <td>460152</td>\n",
       "      <td>5</td>\n",
       "      <td>2017</td>\n",
       "    </tr>\n",
       "    <tr>\n",
       "      <th>1</th>\n",
       "      <td>2017-05-30</td>\n",
       "      <td>1150.000000</td>\n",
       "      <td>1166.099976</td>\n",
       "      <td>1147.000000</td>\n",
       "      <td>1159.449951</td>\n",
       "      <td>1124.211670</td>\n",
       "      <td>460978</td>\n",
       "      <td>5</td>\n",
       "      <td>2017</td>\n",
       "    </tr>\n",
       "    <tr>\n",
       "      <th>2</th>\n",
       "      <td>2017-05-31</td>\n",
       "      <td>1159.000000</td>\n",
       "      <td>1165.000000</td>\n",
       "      <td>1144.550049</td>\n",
       "      <td>1151.199951</td>\n",
       "      <td>1116.212280</td>\n",
       "      <td>1488564</td>\n",
       "      <td>5</td>\n",
       "      <td>2017</td>\n",
       "    </tr>\n",
       "    <tr>\n",
       "      <th>3</th>\n",
       "      <td>2017-06-01</td>\n",
       "      <td>1150.000000</td>\n",
       "      <td>1162.000000</td>\n",
       "      <td>1133.099976</td>\n",
       "      <td>1160.449951</td>\n",
       "      <td>1125.181152</td>\n",
       "      <td>578030</td>\n",
       "      <td>6</td>\n",
       "      <td>2017</td>\n",
       "    </tr>\n",
       "    <tr>\n",
       "      <th>4</th>\n",
       "      <td>2017-06-02</td>\n",
       "      <td>1161.199951</td>\n",
       "      <td>1174.900024</td>\n",
       "      <td>1160.199951</td>\n",
       "      <td>1164.300049</td>\n",
       "      <td>1128.914063</td>\n",
       "      <td>437401</td>\n",
       "      <td>6</td>\n",
       "      <td>2017</td>\n",
       "    </tr>\n",
       "  </tbody>\n",
       "</table>\n",
       "</div>"
      ],
      "text/plain": [
       "         Date         Open         High          Low        Close  \\\n",
       "0  2017-05-29  1125.000000  1150.000000  1125.000000  1146.550049   \n",
       "1  2017-05-30  1150.000000  1166.099976  1147.000000  1159.449951   \n",
       "2  2017-05-31  1159.000000  1165.000000  1144.550049  1151.199951   \n",
       "3  2017-06-01  1150.000000  1162.000000  1133.099976  1160.449951   \n",
       "4  2017-06-02  1161.199951  1174.900024  1160.199951  1164.300049   \n",
       "\n",
       "     Adj Close   Volume  Month  Year  \n",
       "0  1111.703491   460152      5  2017  \n",
       "1  1124.211670   460978      5  2017  \n",
       "2  1116.212280  1488564      5  2017  \n",
       "3  1125.181152   578030      6  2017  \n",
       "4  1128.914063   437401      6  2017  "
      ]
     },
     "execution_count": 23,
     "metadata": {},
     "output_type": "execute_result"
    }
   ],
   "source": [
    "df.head()"
   ]
  },
  {
   "cell_type": "code",
   "execution_count": 24,
   "id": "420df788",
   "metadata": {},
   "outputs": [
    {
     "name": "stdout",
     "output_type": "stream",
     "text": [
      "<class 'pandas.core.frame.DataFrame'>\n",
      "RangeIndex: 1235 entries, 0 to 1234\n",
      "Data columns (total 9 columns):\n",
      " #   Column     Non-Null Count  Dtype  \n",
      "---  ------     --------------  -----  \n",
      " 0   Date       1235 non-null   object \n",
      " 1   Open       1235 non-null   float64\n",
      " 2   High       1235 non-null   float64\n",
      " 3   Low        1235 non-null   float64\n",
      " 4   Close      1235 non-null   float64\n",
      " 5   Adj Close  1235 non-null   float64\n",
      " 6   Volume     1235 non-null   int64  \n",
      " 7   Month      1235 non-null   int64  \n",
      " 8   Year       1235 non-null   int64  \n",
      "dtypes: float64(5), int64(3), object(1)\n",
      "memory usage: 87.0+ KB\n"
     ]
    }
   ],
   "source": [
    "df.info()"
   ]
  },
  {
   "cell_type": "code",
   "execution_count": 25,
   "id": "9c9a9298",
   "metadata": {},
   "outputs": [],
   "source": [
    "y=df['Close']"
   ]
  },
  {
   "cell_type": "code",
   "execution_count": 26,
   "id": "bff7e732",
   "metadata": {},
   "outputs": [],
   "source": [
    "X=df[['High','Low','Adj Close']]"
   ]
  },
  {
   "cell_type": "code",
   "execution_count": 27,
   "id": "595f9b16",
   "metadata": {},
   "outputs": [],
   "source": [
    "from sklearn.model_selection import train_test_split"
   ]
  },
  {
   "cell_type": "code",
   "execution_count": 28,
   "id": "c844f5a9",
   "metadata": {},
   "outputs": [],
   "source": [
    "X_train, X_test, y_train, y_test = train_test_split(X, y, test_size=0.33, random_state=42)"
   ]
  },
  {
   "cell_type": "code",
   "execution_count": 29,
   "id": "b6889340",
   "metadata": {},
   "outputs": [],
   "source": [
    "from sklearn.linear_model import LinearRegression"
   ]
  },
  {
   "cell_type": "code",
   "execution_count": 30,
   "id": "9d818edc",
   "metadata": {},
   "outputs": [],
   "source": [
    "lm = LinearRegression()"
   ]
  },
  {
   "cell_type": "code",
   "execution_count": 31,
   "id": "9668a2d5",
   "metadata": {},
   "outputs": [
    {
     "data": {
      "text/plain": [
       "LinearRegression()"
      ]
     },
     "execution_count": 31,
     "metadata": {},
     "output_type": "execute_result"
    }
   ],
   "source": [
    "lm.fit(X_train, y_train)"
   ]
  },
  {
   "cell_type": "code",
   "execution_count": 32,
   "id": "4d2f4a73",
   "metadata": {},
   "outputs": [
    {
     "data": {
      "text/plain": [
       "array([-0.0163808 ,  0.04997202,  0.95433831])"
      ]
     },
     "execution_count": 32,
     "metadata": {},
     "output_type": "execute_result"
    }
   ],
   "source": [
    "lm.coef_"
   ]
  },
  {
   "cell_type": "code",
   "execution_count": 33,
   "id": "971d70af",
   "metadata": {},
   "outputs": [
    {
     "data": {
      "text/plain": [
       "43.16641474904395"
      ]
     },
     "execution_count": 33,
     "metadata": {},
     "output_type": "execute_result"
    }
   ],
   "source": [
    "lm.intercept_"
   ]
  },
  {
   "cell_type": "code",
   "execution_count": 34,
   "id": "329b1d33",
   "metadata": {},
   "outputs": [],
   "source": [
    "cdf = pd.DataFrame(lm.coef_, X.columns, columns = ['Coeff'])"
   ]
  },
  {
   "cell_type": "code",
   "execution_count": 35,
   "id": "caa49c8c",
   "metadata": {},
   "outputs": [
    {
     "data": {
      "text/html": [
       "<div>\n",
       "<style scoped>\n",
       "    .dataframe tbody tr th:only-of-type {\n",
       "        vertical-align: middle;\n",
       "    }\n",
       "\n",
       "    .dataframe tbody tr th {\n",
       "        vertical-align: top;\n",
       "    }\n",
       "\n",
       "    .dataframe thead th {\n",
       "        text-align: right;\n",
       "    }\n",
       "</style>\n",
       "<table border=\"1\" class=\"dataframe\">\n",
       "  <thead>\n",
       "    <tr style=\"text-align: right;\">\n",
       "      <th></th>\n",
       "      <th>Coeff</th>\n",
       "    </tr>\n",
       "  </thead>\n",
       "  <tbody>\n",
       "    <tr>\n",
       "      <th>High</th>\n",
       "      <td>-0.016381</td>\n",
       "    </tr>\n",
       "    <tr>\n",
       "      <th>Low</th>\n",
       "      <td>0.049972</td>\n",
       "    </tr>\n",
       "    <tr>\n",
       "      <th>Adj Close</th>\n",
       "      <td>0.954338</td>\n",
       "    </tr>\n",
       "  </tbody>\n",
       "</table>\n",
       "</div>"
      ],
      "text/plain": [
       "              Coeff\n",
       "High      -0.016381\n",
       "Low        0.049972\n",
       "Adj Close  0.954338"
      ]
     },
     "execution_count": 35,
     "metadata": {},
     "output_type": "execute_result"
    }
   ],
   "source": [
    "cdf"
   ]
  },
  {
   "cell_type": "code",
   "execution_count": 36,
   "id": "66e9fd66",
   "metadata": {},
   "outputs": [],
   "source": [
    "pred = lm.predict(X_test)"
   ]
  },
  {
   "cell_type": "code",
   "execution_count": 37,
   "id": "93874845",
   "metadata": {},
   "outputs": [],
   "source": [
    "from sklearn.metrics import mean_absolute_error, mean_squared_error"
   ]
  },
  {
   "cell_type": "code",
   "execution_count": 38,
   "id": "d59e888e",
   "metadata": {},
   "outputs": [
    {
     "name": "stdout",
     "output_type": "stream",
     "text": [
      "3.1439292938440953\n"
     ]
    }
   ],
   "source": [
    "print(mean_absolute_error(pred, y_test))"
   ]
  },
  {
   "cell_type": "code",
   "execution_count": 39,
   "id": "92caeecf",
   "metadata": {},
   "outputs": [
    {
     "name": "stdout",
     "output_type": "stream",
     "text": [
      "16.678300308860194\n"
     ]
    }
   ],
   "source": [
    "print(mean_squared_error(pred, y_test))"
   ]
  },
  {
   "cell_type": "code",
   "execution_count": 40,
   "id": "de530e28",
   "metadata": {},
   "outputs": [
    {
     "name": "stdout",
     "output_type": "stream",
     "text": [
      "4.08390748044813\n"
     ]
    }
   ],
   "source": [
    "print(np.sqrt(mean_squared_error(pred, y_test)))"
   ]
  },
  {
   "cell_type": "code",
   "execution_count": null,
   "id": "f58089d2",
   "metadata": {},
   "outputs": [],
   "source": []
  }
 ],
 "metadata": {
  "kernelspec": {
   "display_name": "envtensflo",
   "language": "python",
   "name": "envtensflo"
  },
  "language_info": {
   "codemirror_mode": {
    "name": "ipython",
    "version": 3
   },
   "file_extension": ".py",
   "mimetype": "text/x-python",
   "name": "python",
   "nbconvert_exporter": "python",
   "pygments_lexer": "ipython3",
   "version": "3.9.12"
  }
 },
 "nbformat": 4,
 "nbformat_minor": 5
}
